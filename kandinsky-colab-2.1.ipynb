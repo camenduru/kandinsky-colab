{
  "cells": [
    {
      "cell_type": "markdown",
      "metadata": {
        "id": "view-in-github"
      },
      "source": [
        "[![Open In Colab](https://colab.research.google.com/assets/colab-badge.svg)](https://colab.research.google.com/github/camenduru/kandinsky-colab/blob/main/kandinsky-colab-2.1.ipynb)"
      ]
    },
    {
      "cell_type": "code",
      "execution_count": null,
      "metadata": {
        "id": "3dX4hsTBm4dD"
      },
      "outputs": [],
      "source": [
        "# https://colab.research.google.com/drive/1xSbu-b-EwYd6GdaFPRVgvXBX_mciZ41e modified\n",
        "!pip install git+https://github.com/camenduru/Kandinsky-2.git\n",
        "!pip install git+https://github.com/openai/CLIP.git\n",
        "\n",
        "from kandinsky2 import get_kandinsky2\n",
        "model = get_kandinsky2('cuda', task_type='text2img', cache_dir='/tmp/kandinsky2', model_version='2.1', use_flash_attention=False)"
      ]
    },
    {
      "cell_type": "code",
      "execution_count": null,
      "metadata": {
        "id": "I_E8YILBm4dG"
      },
      "outputs": [],
      "source": [
        "images = model.generate_text2img('''red cat, 4k photo''', num_steps=100, batch_size=1, guidance_scale=4, h=768, w=768 ,sampler='p_sampler', prior_cf_scale=4, prior_steps=\"5\",)\n",
        "images[0]"
      ]
    }
  ],
  "metadata": {
    "language_info": {
      "name": "python"
    },
    "orig_nbformat": 4,
    "colab": {
      "provenance": []
    },
    "accelerator": "GPU",
    "gpuClass": "standard"
  },
  "nbformat": 4,
  "nbformat_minor": 0
}