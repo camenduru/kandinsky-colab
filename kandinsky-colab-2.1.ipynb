{
 "cells": [
  {
   "cell_type": "code",
   "execution_count": null,
   "metadata": {},
   "outputs": [],
   "source": [
    "# https://colab.research.google.com/drive/1xSbu-b-EwYd6GdaFPRVgvXBX_mciZ41e modified\n",
    "!pip install git+https://github.com/camenduru/Kandinsky-2.git\n",
    "!pip install git+https://github.com/openai/CLIP.git\n",
    "\n",
    "from kandinsky2 import get_kandinsky2\n",
    "model = get_kandinsky2('cuda', task_type='text2img', cache_dir='/tmp/kandinsky2', model_version='2.1', use_flash_attention=False)"
   ]
  },
  {
   "cell_type": "code",
   "execution_count": null,
   "metadata": {},
   "outputs": [],
   "source": [
    "images = model.generate_text2img('''red cat, 4k photo''', num_steps=100, batch_size=1, guidance_scale=4, h=768, w=768 ,sampler='p_sampler', prior_cf_scale=4, prior_steps=\"5\",)\n",
    "images[0]"
   ]
  }
 ],
 "metadata": {
  "language_info": {
   "name": "python"
  },
  "orig_nbformat": 4
 },
 "nbformat": 4,
 "nbformat_minor": 2
}
