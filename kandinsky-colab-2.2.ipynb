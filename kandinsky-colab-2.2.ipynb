{
  "cells": [
    {
      "cell_type": "markdown",
      "metadata": {
        "id": "view-in-github"
      },
      "source": [
        "[![Open In Colab](https://colab.research.google.com/assets/colab-badge.svg)](https://colab.research.google.com/github/camenduru/kandinsky-colab/blob/main/kandinsky-colab-2.2.ipynb)"
      ]
    },
    {
      "cell_type": "code",
      "execution_count": null,
      "metadata": {
        "id": "3dX4hsTBm4dD"
      },
      "outputs": [],
      "source": [
        "!pip install git+https://github.com/ai-forever/diffusers.git\n",
        "!pip install transformers\n",
        "!pip install accelerate\n",
        "\n",
        "import sys\n",
        "from diffusers import KandinskyV22Pipeline, KandinskyV22PriorPipeline\n",
        "import torch\n",
        "import PIL\n",
        "import torch\n",
        "from diffusers.utils import load_image\n",
        "from torchvision import transforms\n",
        "from transformers import CLIPVisionModelWithProjection\n",
        "from diffusers.models import UNet2DConditionModel\n",
        "import numpy as np\n",
        "\n",
        "DEVICE = torch.device('cuda:0')\n",
        "\n",
        "image_encoder = CLIPVisionModelWithProjection.from_pretrained(\n",
        "    'kandinsky-community/kandinsky-2-2-prior',\n",
        "    subfolder='image_encoder'\n",
        ").half().to(DEVICE)\n",
        "\n",
        "unet = UNet2DConditionModel.from_pretrained(\n",
        "    'kandinsky-community/kandinsky-2-2-decoder',\n",
        "    subfolder='unet'\n",
        ").half().to(DEVICE)\n",
        "\n",
        "prior = KandinskyV22PriorPipeline.from_pretrained(\n",
        "    'kandinsky-community/kandinsky-2-2-prior',\n",
        "    image_encoder=image_encoder,\n",
        "    torch_dtype=torch.float16\n",
        ").to(DEVICE)\n",
        "\n",
        "decoder = KandinskyV22Pipeline.from_pretrained(\n",
        "    'kandinsky-community/kandinsky-2-2-decoder',\n",
        "    unet=unet,\n",
        "    torch_dtype=torch.float16\n",
        ").to(DEVICE)"
      ]
    },
    {
      "cell_type": "code",
      "execution_count": null,
      "metadata": {},
      "outputs": [],
      "source": [
        "torch.manual_seed(42)\n",
        "\n",
        "negative_prior_prompt ='lowres, text, error, cropped, worst quality, low quality, jpeg artifacts, ugly, duplicate, morbid, mutilated, out of frame, extra fingers, mutated hands, poorly drawn hands, poorly drawn face, mutation, deformed, blurry, dehydrated, bad anatomy, bad proportions, extra limbs, cloned face, disfigured, gross proportions, malformed limbs, missing arms, missing legs, extra arms, extra legs, fused fingers, too many fingers, long neck, username, watermark, signature'\n",
        "img_emb = prior(\n",
        "    prompt='A moss covered astronaut with a black background',\n",
        "    num_inference_steps=25,\n",
        "    num_images_per_prompt=1\n",
        ")\n",
        "\n",
        "negative_emb = prior(\n",
        "    prompt=negative_prior_prompt,\n",
        "    num_inference_steps=25,\n",
        "    num_images_per_prompt=1\n",
        ")\n",
        "\n",
        "images = decoder(\n",
        "    image_embeds=img_emb.image_embeds,\n",
        "    negative_image_embeds=negative_emb.image_embeds,\n",
        "    num_inference_steps=75,\n",
        "    height=512,\n",
        "    width=512)\n",
        "\n",
        "images.images[0]"
      ]
    }
  ],
  "metadata": {
    "accelerator": "GPU",
    "colab": {
      "provenance": []
    },
    "gpuClass": "standard",
    "language_info": {
      "name": "python"
    },
    "orig_nbformat": 4
  },
  "nbformat": 4,
  "nbformat_minor": 0
}
