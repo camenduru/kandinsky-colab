{
  "cells": [
    {
      "cell_type": "markdown",
      "metadata": {
        "id": "view-in-github"
      },
      "source": [
        "[![Open In Colab](https://colab.research.google.com/assets/colab-badge.svg)](https://colab.research.google.com/github/camenduru/kandinsky-colab/blob/main/kandinsky-colab-3.0.ipynb)"
      ]
    },
    {
      "cell_type": "code",
      "execution_count": null,
      "metadata": {
        "id": "3dX4hsTBm4dD"
      },
      "outputs": [],
      "source": [
        "!pip install git+https://github.com/ai-forever/diffusers_kandinsky3 einops\n",
        "\n",
        "import torch\n",
        "from diffusers import KandinskyV3Pipeline\n",
        "\n",
        "pipe = KandinskyV3Pipeline.from_pretrained('kandinsky-community/kandinsky-3', torch_dtype=torch.float16).to('cuda')"
      ]
    },
    {
      "cell_type": "code",
      "execution_count": null,
      "metadata": {},
      "outputs": [],
      "source": [
        "image = pipe(\"A cute corgi lives in a house made out of sushi.\")\n",
        "image"
      ]
    }
  ],
  "metadata": {
    "accelerator": "GPU",
    "colab": {
      "provenance": []
    },
    "gpuClass": "standard",
    "language_info": {
      "name": "python"
    },
    "orig_nbformat": 4
  },
  "nbformat": 4,
  "nbformat_minor": 0
}
