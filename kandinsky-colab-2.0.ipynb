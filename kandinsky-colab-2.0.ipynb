{
    "cells": [
        {
            "cell_type": "markdown",
            "metadata": {
            "id": "view-in-github"
            },
            "source": [
            "[![Open In Colab](https://colab.research.google.com/assets/colab-badge.svg)](https://colab.research.google.com/github/camenduru/kandinsky-colab/blob/main/kandinsky-colab-2.0.ipynb)"
            ]
        },
      {
        "cell_type": "code",
        "execution_count": null,
        "metadata": {
          "id": "cL6jpQYem4Rw"
        },
        "outputs": [],
        "source": [
          "# https://colab.research.google.com/drive/1uPg9KwGZ2hJBl9taGA_3kyKGw12Rh3ij modified\n",
          "!pip install git+https://github.com/camenduru/Kandinsky-2.git\n",
          "\n",
          "from kandinsky2 import get_kandinsky2\n",
          "model = get_kandinsky2('cuda', task_type='text2img')"
        ]
      },
      {
        "cell_type": "code",
        "execution_count": null,
        "metadata": {
          "id": "ZlIOoEylm4Rz"
        },
        "outputs": [],
        "source": [
          "images = model.generate_text2img('кошка в космосе', batch_size=4, h=512, w=512, num_steps=75, denoised_type='dynamic_threshold', dynamic_threshold_v=99.5, sampler='ddim_sampler', ddim_eta=0.01, guidance_scale=10)\n",
          "images[0]"
        ]
      }
    ],
    "metadata": {
      "language_info": {
        "name": "python"
      },
      "orig_nbformat": 4,
      "colab": {
        "provenance": []
      },
      "accelerator": "GPU",
      "gpuClass": "standard"
    },
    "nbformat": 4,
    "nbformat_minor": 0
  }